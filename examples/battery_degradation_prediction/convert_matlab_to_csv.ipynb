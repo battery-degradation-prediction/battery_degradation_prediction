{
 "cells": [
  {
   "cell_type": "markdown",
   "id": "b02e3cbc",
   "metadata": {},
   "source": [
    "# Convert MATLAB file to CSV file example"
   ]
  },
  {
   "cell_type": "markdown",
   "id": "89084c77",
   "metadata": {},
   "source": [
    "To start with, it's important to verify the MATLAB version you're currently using. The [MathWorks website](https://www.mathworks.com/company/events/conferences/automotive-conference-michigan/2023.html) provides two options to access MATLAB:\n",
    "1. MATLAB online version\n",
    "2. Download MATLAB Software\n",
    "\n",
    "This Jupyter notebook will guide you through the process of converting a MATLAB file (.mat) to a CSV file (.csv) using either of the methods mentioned above."
   ]
  },
  {
   "cell_type": "markdown",
   "id": "88e7c1a9",
   "metadata": {},
   "source": [
    "---"
   ]
  },
  {
   "cell_type": "markdown",
   "id": "268fff26",
   "metadata": {},
   "source": [
    "## 1) Download the \"MATLAB transfer to CSV\" function from github"
   ]
  },
  {
   "cell_type": "markdown",
   "id": "41c272fe",
   "metadata": {},
   "source": [
    "You can find the four required function files for download in the directory \"battery_degradation_prediction/src/battery_degradation_prediction/mat2csv/\"\n",
    "\n",
    "The required funtion files:\n",
    "- datatime_plus_durations.m\n",
    "- write_charging_data.m\n",
    "- write_discharging_data.m\n",
    "- mat2csv.m"
   ]
  },
  {
   "cell_type": "markdown",
   "id": "3db4b4bc",
   "metadata": {},
   "source": [
    "---"
   ]
  },
  {
   "cell_type": "markdown",
   "id": "19b1a0ac",
   "metadata": {},
   "source": [
    "## 2) Working with MATLAB with two different version"
   ]
  },
  {
   "cell_type": "markdown",
   "id": "9b7ad30b",
   "metadata": {},
   "source": [
    "### 1. MATLAB online version"
   ]
  },
  {
   "cell_type": "markdown",
   "id": "b47af748",
   "metadata": {},
   "source": [
    "a) To begin, upload the four function files you obtained from GitHub and all your battery.mat files into MATLAB online version by right-click your mouse in current folder field and choose \"upload Files\". \n",
    "*Suggestion: create a folder to upload all of your files in it, it will be easier to organize*\n",
    "\n",
    "b) Next, create a new script by selecting \"create new document\" and then \"script\".\n",
    "\n",
    "c) In the new script, type the command `mat2csv(filepath, output_name)`. Then, run the script and MATLAB will generate the desired CSV file to the place you stored your function files. Remember to download it to your compurter before you use it."
   ]
  },
  {
   "cell_type": "markdown",
   "id": "4bbae313",
   "metadata": {},
   "source": [
    "#### <center> Example of command"
   ]
  },
  {
   "cell_type": "markdown",
   "id": "25a10bd3",
   "metadata": {},
   "source": [
    "<font size=3><center>If you hava battery data file name as \"B0025.mat\" and want to output a csv file name \"B0025.csv\". \n",
    "    \n",
    "<font size=3><center> You will type: `mat2csv(\"../B0025.mat\",\"B0025.csv\")`\n",
    "    \n",
    "<font size=3><center>*If you have your own dataset and you will type `mat2csv(/path/to/the/matlab_mat/file, output_name.csv)` * (add the inform of how to get the path. type the pwd in command line)"
   ]
  },
  {
   "cell_type": "markdown",
   "id": "c9c0712d",
   "metadata": {},
   "source": [
    "### 2. Download MATLAB Software"
   ]
  },
  {
   "cell_type": "markdown",
   "id": "44284921",
   "metadata": {},
   "source": [
    "a) To begin, ensure that the four function files you obtained from GitHub and all your battery.mat files are stored in the same folder.\n",
    "\n",
    "b) Next, launch the MATLAB software and select \"browse for folder\" to choose the folder containing the functions and data.\n",
    "\n",
    "c) Once the folder is selected, create a new script by selecting \"create new document\" and then \"script\". You can also press `ctrl+N` to create a new script easily.\n",
    "\n",
    "d) In the new script, type the command `mat2csv(filepath, output_name)`. Then, run the script and MATLAB will generate the desired CSV file into the folder."
   ]
  },
  {
   "cell_type": "markdown",
   "id": "3b9504b3",
   "metadata": {},
   "source": [
    "#### <center> Example of command"
   ]
  },
  {
   "cell_type": "markdown",
   "id": "48e9e13c",
   "metadata": {},
   "source": [
    "<font size=3><center>If you hava battery data file name as \"B0025.mat\" and want to output a csv file name \"B0025.csv\".\n",
    "    \n",
    "<font size=3><center> You will type: `mat2csv(\"filepath\",\"B0025.csv\")`. You can copy the filepath by right-checking wanted battery data file and copy the filepath."
   ]
  },
  {
   "cell_type": "markdown",
   "id": "cb8f3a02",
   "metadata": {},
   "source": [
    "---"
   ]
  },
  {
   "cell_type": "markdown",
   "id": "153ff039",
   "metadata": {},
   "source": [
    "## 3) How to know if you are doing the right step or not?"
   ]
  },
  {
   "cell_type": "markdown",
   "id": "63558c22",
   "metadata": {},
   "source": [
    "If the command window displays output similar to the following. __That's Great!!__\n",
    "\n",
    "It indicates that MATLAB is currently functioning correctly. You just need to sit and wait for MATLAB running. Once the \">>\" symbol appears again, it indicates that your MATLAB file has been transferred successfully. \n",
    "\n",
    "Now, you have your csv file in your folder."
   ]
  },
  {
   "attachments": {
    "MATLAB%20pic.png": {
     "image/png": "[encoded data removed]"
    }
   },
   "cell_type": "markdown",
   "id": "b9cb0ff5",
   "metadata": {},
   "source": [
    "![MATLAB%20pic.png](attachment:MATLAB%20pic.png)"
   ]
  },
  {
   "cell_type": "markdown",
   "id": "e5ecd176",
   "metadata": {},
   "source": [
    "---"
   ]
  },
  {
   "cell_type": "markdown",
   "id": "f62a4949",
   "metadata": {},
   "source": [
    "# Transfer function"
   ]
  },
  {
   "cell_type": "markdown",
   "id": "05707171",
   "metadata": {},
   "source": [
    "In case you are unable to locate the transfer function on Github, you may simply copy and paste the following four functions into MATLAB. __Be sure to save each function as a separate file with the same name that we use.__\n",
    "\n",
    "If you want to learn more about how to "
   ]
  },
  {
   "cell_type": "markdown",
   "id": "fea587e6",
   "metadata": {},
   "source": [
    "### datetime_plus_duratinon"
   ]
  },
  {
   "cell_type": "markdown",
   "id": "c0007d47",
   "metadata": {},
   "source": [
    "```\n",
    "function new_datetimes = datetime_plus_durations(current_datetime, durations)\n",
    "    % Given a series of durations (unit in second), convert them to\n",
    "    % date_time.\n",
    "    %\n",
    "    % Parameters\n",
    "    % ----------\n",
    "    % durations : matrix\n",
    "    %     durations = [t0, t1, t2, ...] unit = [second]\n",
    "    % current_datetime : datetime \n",
    "    %     DD-MM-YYYY HH:MM:SS\n",
    "    %\n",
    "    % Returns\n",
    "    % -------\n",
    "    % new_datetime : datetime\n",
    "    %    current date time + duration, DD-MM-YYYY HH:MM:SS\n",
    "    num_data = length(durations);\n",
    "    num_char = length('yyyy-mm-dd-HH-MM-SS');\n",
    "    new_datetimes = datestr(zeros(3,1), 'yyyy-mm-dd-HH-MM-SS');\n",
    "    for i = 1:num_data\n",
    "        new_datetimes(i, :) = datestr(current_datetime + seconds(durations(i)), 'yyyy-mm-dd-HH-MM-SS'); \n",
    "    end\n",
    "end\n",
    "```"
   ]
  },
  {
   "cell_type": "markdown",
   "id": "8fbd6631",
   "metadata": {},
   "source": [
    "### write_charging_data"
   ]
  },
  {
   "cell_type": "markdown",
   "id": "1bf27657",
   "metadata": {},
   "source": [
    "```\n",
    "function dummy = write_charging_data(csv_file, num_cycle, ambient_temp, row_information)\n",
    "    time_cell = row_information(3);\n",
    "    current_datetime = datetime(time_cell{1}(1:6));\n",
    "\n",
    "    data_cell = row_information(4);\n",
    "    data_struct = data_cell{1};\n",
    "    Time = data_struct.Time;\n",
    "    new_datetimes = datetime_plus_durations(current_datetime, Time);\n",
    "\n",
    "    Voltage_measured = data_struct.Voltage_measured;\n",
    "    Current_measured = data_struct.Current_measured;\n",
    "    Temperature_measured = data_struct.Temperature_measured;\n",
    "    Current_charge = data_struct.Current_charge;\n",
    "    Voltage_charge = data_struct.Voltage_charge;\n",
    "    \n",
    "    for line = 1:size(new_datetimes, 1)\n",
    "       fprintf(csv_file, '%d,%s,%d,%f,%f,%f,%f,%f,%s,%f\\n', ...\n",
    "               num_cycle, ...\n",
    "               \"charging\", ...\n",
    "               ambient_temp, ...\n",
    "               Voltage_measured(1,line), ...\n",
    "               Current_measured(1,line), ...\n",
    "               Temperature_measured(1,line), ...\n",
    "               Current_charge(1,line), ...\n",
    "               Voltage_charge(1,line), ...\n",
    "               new_datetimes(line, :), ...\n",
    "               NaN);\n",
    "    end\n",
    "end\n",
    "```"
   ]
  },
  {
   "cell_type": "markdown",
   "id": "9a14fc12",
   "metadata": {},
   "source": [
    "### write_discharging_data"
   ]
  },
  {
   "cell_type": "markdown",
   "id": "95a0bd97",
   "metadata": {},
   "source": [
    "```\n",
    "function dummy = write_discharging_data(csv_file, num_cycle, ambient_temp, row_information)\n",
    "    time_cell = row_information(3);\n",
    "    current_datetime = datetime(time_cell{1}(1:6));\n",
    "\n",
    "    data_cell = row_information(4);\n",
    "    data_struct = data_cell{1};\n",
    "    Time = data_struct.Time;\n",
    "    new_datetimes = datetime_plus_durations(current_datetime, Time);\n",
    "\n",
    "    Voltage_measured = data_struct.Voltage_measured;\n",
    "    Current_measured = data_struct.Current_measured;\n",
    "    Temperature_measured = data_struct.Temperature_measured;\n",
    "    Current_load = data_struct.Current_load;\n",
    "    Voltage_load = data_struct.Voltage_load;\n",
    "    Capacity = data_struct.Capacity;\n",
    "    for line = 1:size(new_datetimes, 1)\n",
    "       fprintf(csv_file, '%d,%s,%d,%f,%f,%f,%f,%f,%s,%f\\n', ...\n",
    "               num_cycle, ...\n",
    "               \"discharging\", ...\n",
    "               ambient_temp, ...\n",
    "               Voltage_measured(1,line), ...\n",
    "               Current_measured(1,line), ...\n",
    "               Temperature_measured(1,line), ...\n",
    "               Current_load(1,line), ...\n",
    "               Voltage_load(1,line), ...\n",
    "               new_datetimes(line, :), ...\n",
    "               Capacity);\n",
    "    end\n",
    "end\n",
    "```"
   ]
  },
  {
   "cell_type": "markdown",
   "id": "8d17bfef",
   "metadata": {},
   "source": [
    "### mat2csv"
   ]
  },
  {
   "cell_type": "markdown",
   "id": "6f651fea",
   "metadata": {},
   "source": [
    "```\n",
    "function dummy = mat2csv(filepath, output_name)\n",
    "    S=load(filepath);\n",
    "    csv_file = fopen(output_name, 'wt');\n",
    "    cHeader = {'cycle' 'type' 'ambient_temp' 'voltage_measured' 'current_measured' 'temperature_measured' 'current_charge' 'voltage_charge' 'datetime' 'capacity'};\n",
    "    commaHeader = [cHeader;repmat({','},1,numel(cHeader))]; %insert commaas\n",
    "    commaHeader = commaHeader(:)';\n",
    "    textHeader = cell2mat(commaHeader); %cHeader in text with commas\n",
    "    %write header to file\n",
    "    fprintf(csv_file,'%s\\n',textHeader);\n",
    "    \n",
    "    cell_list = struct2cell(S);\n",
    "    cycle_struct = cell_list{1}.cycle;\n",
    "    cycle_cell = struct2cell(cycle_struct);\n",
    "    num_row = size(cycle_cell, 3);\n",
    "    num_cycle_charge = 0;\n",
    "    num_cycle_discharge = 0;\n",
    "    %num_row = 150; % This variable determines how many rows are converted\n",
    "                    % into the csv file.\n",
    "\n",
    "    for row = 1:num_row\n",
    "        if mod(row, 10) == 0\n",
    "            disp(\"Current Row/Total Row = \" + string(row)+\"/\"+string(num_row))\n",
    "        end\n",
    "        row_information = cycle_cell(:,:,row);  % The first element refers to columns, the second one doesn't have any meaning, and the third one refers to row\n",
    "        ambient_temp = row_information{2};\n",
    "        if strcmp(row_information{1}, \"charge\")\n",
    "            num_cycle_charge = num_cycle_charge + 1;\n",
    "            write_charging_data(csv_file, num_cycle_charge, ambient_temp, row_information);\n",
    "        elseif strcmp(row_information{1}, \"discharge\")\n",
    "            num_cycle_discharge = num_cycle_discharge + 1;\n",
    "            write_discharging_data(csv_file, num_cycle_discharge, ambient_temp, row_information);\n",
    "        end\n",
    "    end\n",
    "    fclose(csv_file);\n",
    "end\n",
    "```"
   ]
  }
 ],
 "metadata": {
  "kernelspec": {
   "display_name": "Python 3 (ipykernel)",
   "language": "python",
   "name": "python3"
  },
  "language_info": {
   "codemirror_mode": {
    "name": "ipython",
    "version": 3
   },
   "file_extension": ".py",
   "mimetype": "text/x-python",
   "name": "python",
   "nbconvert_exporter": "python",
   "pygments_lexer": "ipython3",
   "version": "3.10.8"
  }
 },
 "nbformat": 4,
 "nbformat_minor": 5
}
